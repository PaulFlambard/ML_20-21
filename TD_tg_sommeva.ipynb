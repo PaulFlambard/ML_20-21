{
 "cells": [
  {
   "cell_type": "markdown",
   "metadata": {},
   "source": [
    "# Sommes de variables aléatoires"
   ]
  },
  {
   "cell_type": "markdown",
   "metadata": {},
   "source": [
    "## I. Rappels de simulation"
   ]
  },
  {
   "cell_type": "markdown",
   "metadata": {},
   "source": [
    "### I. 1. Fonctions pythonesques de simulation "
   ]
  },
  {
   "cell_type": "markdown",
   "metadata": {},
   "source": [
    "Exécuter le code suivant ; ne pas hésiter à faire plusieurs essais avec des valeurs différentes pour faire des tests. Deviner ce que renvoie la fonction randint. Expliciter ses conditions d'utilisation."
   ]
  },
  {
   "cell_type": "code",
   "execution_count": null,
   "metadata": {},
   "outputs": [],
   "source": [
    "import random as rd\n",
    "\n",
    "a = float(input('Choisir une valeur : a = '))\n",
    "b = float(input('Choisir (encore) une valeur : b = '))\n",
    "\n",
    "for _ in range(20):\n",
    "    print(rd.randint(a, b))"
   ]
  },
  {
   "cell_type": "markdown",
   "metadata": {},
   "source": [
    "Exécuter le code suivant. Deviner ce que renvoie la fonction random."
   ]
  },
  {
   "cell_type": "code",
   "execution_count": null,
   "metadata": {},
   "outputs": [],
   "source": [
    "for _ in range(20):\n",
    "    print(rd.random())"
   ]
  },
  {
   "cell_type": "markdown",
   "metadata": {},
   "source": [
    "#### Exercice 1"
   ]
  },
  {
   "cell_type": "markdown",
   "metadata": {},
   "source": [
    "Proposer un code simulant le choix d'un nombre entier compris entre -3 et 7."
   ]
  },
  {
   "cell_type": "code",
   "execution_count": null,
   "metadata": {},
   "outputs": [],
   "source": []
  },
  {
   "cell_type": "markdown",
   "metadata": {},
   "source": [
    "Proposer un code simulant le choix d'un nombre décimal entre 0 et 2."
   ]
  },
  {
   "cell_type": "code",
   "execution_count": null,
   "metadata": {},
   "outputs": [],
   "source": []
  },
  {
   "cell_type": "markdown",
   "metadata": {},
   "source": [
    "Proposer un code simulant le choix d'un nombre appartenant à l'ensemble {2 ; 2,1 ; 2,2 ; ... ; 2,9}."
   ]
  },
  {
   "cell_type": "code",
   "execution_count": null,
   "metadata": {},
   "outputs": [],
   "source": []
  },
  {
   "cell_type": "markdown",
   "metadata": {},
   "source": [
    "### I. 2. Exemples de simulation de variables aléatoires"
   ]
  },
  {
   "cell_type": "markdown",
   "metadata": {},
   "source": [
    "La variable aléatoire $X$ a la loi de probabilité donnée par :$\\begin{array}{|c|c|c|} \\hline x & 0 & 1 \\\\ \\hline P(X=x) & 0,2 & 0,8 \\\\\\hline\\end{array}$, on peut la simuler par la fonction en Python $\\mathtt{simu\\_X}$ :"
   ]
  },
  {
   "cell_type": "code",
   "execution_count": null,
   "metadata": {},
   "outputs": [],
   "source": [
    "import random as rd\n",
    "\n",
    "def simu_X(): #on définit une fonction sans argument ...\n",
    "    alea = rd.randint(1, 10)\n",
    "    if alea <= 2: #... on crée un test se réalisant avec la probabilité 0,2\n",
    "        return 0 #... qui retourne la valeur de probabilité 0,2\n",
    "    return 1 #si le test a renvoyé False, on renvoie l'autre valeur.\n",
    "\n",
    "print([simu_X() for _ in range(40)])"
   ]
  },
  {
   "cell_type": "markdown",
   "metadata": {},
   "source": [
    "La variable aléatoire $Y$ a loi de probabilité donnée par :$\\begin{array}{|c|c|c|c|} \\hline y & -1 & 0 & 1 \\\\ \\hline P(Y=y) & 0,4 & 0,35 & 0,35 \\\\\\hline\\end{array}$, on peut la simuler par la fonction en Python $\\mathtt{simu\\_Y}$ :"
   ]
  },
  {
   "cell_type": "code",
   "execution_count": null,
   "metadata": {},
   "outputs": [],
   "source": [
    "def simu_Y(): #on définit une fonction sans argument ...\n",
    "    alea = rd.randint(1, 100)\n",
    "    if alea <= 40: #... on crée un test se réalisant avec la probabilité 0,4\n",
    "        return -1 #... qui retourne la valeur de probabilité 0,4\n",
    "    if alea <= 75 #ce test renvoie True avec la probabilité 0,35 car le programme est exécuté linéairement\n",
    "        return 0\n",
    "    return 1 #si ce test a renvoyé False aussi, on renvoie la dernière valeur."
   ]
  },
  {
   "cell_type": "markdown",
   "metadata": {},
   "source": [
    "#### Exercice 2"
   ]
  },
  {
   "cell_type": "markdown",
   "metadata": {},
   "source": [
    "La variable aléatoire $Z$ a loi de probabilité donnée par :$\\begin{array}{|c|c|c|c|} \\hline z & 0 & 2 & 3 \\\\ \\hline P(Z=z) & 0,37 & 0,52 & 0,11 \\\\\\hline\\end{array}$. Proposer une fonction en Python $\\mathtt{simu\\_Z}$ simulant $Z$ :"
   ]
  },
  {
   "cell_type": "code",
   "execution_count": null,
   "metadata": {},
   "outputs": [],
   "source": []
  },
  {
   "cell_type": "markdown",
   "metadata": {},
   "source": [
    "#### Exercice 3"
   ]
  },
  {
   "cell_type": "markdown",
   "metadata": {},
   "source": [
    "La fonction en Python simu1 simule une variable aléatoire $T$.\n",
    "- Quelles sont les valeurs prises par $T$ ?\n",
    "- Donner la loi de probabilité associée à $T$."
   ]
  },
  {
   "cell_type": "code",
   "execution_count": null,
   "metadata": {},
   "outputs": [],
   "source": [
    "def simu1():\n",
    "    a = rd.randint(1, 1000)\n",
    "    if a <= 361:\n",
    "        return -5\n",
    "    if a <= 456:\n",
    "        return 0\n",
    "    if a <= 925:\n",
    "        return 5\n",
    "    return 10"
   ]
  },
  {
   "cell_type": "markdown",
   "metadata": {},
   "source": []
  },
  {
   "cell_type": "markdown",
   "metadata": {},
   "source": [
    "   ## I. 3. Estimation"
   ]
  },
  {
   "cell_type": "markdown",
   "metadata": {},
   "source": [
    "### I. 3. 1. Probabilité"
   ]
  },
  {
   "cell_type": "markdown",
   "metadata": {},
   "source": [
    "On souhaite estimer la probabilité que la fonction $\\mathtt{rd.triangular(0, 5)}$ renvoie une valeur inférieure à 2."
   ]
  },
  {
   "cell_type": "code",
   "execution_count": null,
   "metadata": {},
   "outputs": [],
   "source": [
    "cpt = 0 #var. compteur\n",
    "for k in range(1000): #on fait 1000 simulations :\n",
    "    if rd.triangular(0, 5) <= 2:\n",
    "        cpt = cpt + 1 #la var. cpt augmente de 1 ssi triangular(0, 5) est inf. à 2\n",
    "print(cpt/1000) #la fréquence de l'év. « triangular(0, 5) <= 2 » est une approx. de la proba"
   ]
  },
  {
   "cell_type": "markdown",
   "metadata": {},
   "source": [
    "#### Exercice 4"
   ]
  },
  {
   "cell_type": "markdown",
   "metadata": {},
   "source": [
    "En s'inspirant du code précédent, proposer un script pour chacune des estimations suivantes.\n",
    "1. Estimer la probabilité que rd.weibullvariate(1, 2) est supérieure à 2.\n",
    "2. Estimer la probabilité que rd.betavariate(2, 5) est inférieure à 0,4.\n",
    "3. Estimer la probabilité que rd.gauss(1, 2) est comprise entre -3 et 5."
   ]
  },
  {
   "cell_type": "code",
   "execution_count": null,
   "metadata": {},
   "outputs": [],
   "source": []
  },
  {
   "cell_type": "code",
   "execution_count": null,
   "metadata": {},
   "outputs": [],
   "source": []
  },
  {
   "cell_type": "code",
   "execution_count": null,
   "metadata": {},
   "outputs": [],
   "source": []
  },
  {
   "cell_type": "markdown",
   "metadata": {},
   "source": [
    "### I. 3. 2. Espérance"
   ]
  },
  {
   "cell_type": "markdown",
   "metadata": {},
   "source": [
    "On souhaite estimer l'espérance de la variable aléatoire $X$ précédemment simulée par $\\mathtt{simu\\_X}$. "
   ]
  },
  {
   "cell_type": "code",
   "execution_count": null,
   "metadata": {},
   "outputs": [],
   "source": [
    "cpt = 0 #var. compteur\n",
    "for k in range(1000): #on fait 1000 simulations\n",
    "    cpt = cpt + simu_X() #cela revient à faire la somme de 1000 simu de simu_X()\n",
    "print(cpt/1000) #la moyenne des simulations est une approximation de l'espérance"
   ]
  },
  {
   "cell_type": "markdown",
   "metadata": {},
   "source": [
    "#### Exercice 5"
   ]
  },
  {
   "cell_type": "markdown",
   "metadata": {},
   "source": [
    "En s'inspirant du code précédent, proposer un script estimant l'espérance de chacune des fonctions utilisées à l'exercice précédent."
   ]
  },
  {
   "cell_type": "code",
   "execution_count": null,
   "metadata": {},
   "outputs": [],
   "source": []
  },
  {
   "cell_type": "code",
   "execution_count": null,
   "metadata": {},
   "outputs": [],
   "source": []
  },
  {
   "cell_type": "code",
   "execution_count": null,
   "metadata": {},
   "outputs": [],
   "source": []
  },
  {
   "cell_type": "markdown",
   "metadata": {},
   "source": [
    "### I. 3. 3. Variance, écart type"
   ]
  },
  {
   "cell_type": "markdown",
   "metadata": {},
   "source": [
    "On souhaite estimer l'espérance de la variable aléatoire $X$ précédemment simulée par $\\mathtt{simu\\_X}$. "
   ]
  },
  {
   "cell_type": "code",
   "execution_count": null,
   "metadata": {},
   "outputs": [],
   "source": [
    "import numpy as np\n",
    "\n",
    "mu = 0 #var. espérance\n",
    "va = 0 #var. variance\n",
    "\n",
    "for k in range(1000): #on fait 1000 simulations\n",
    "    mu = mu + simu_X() #cela revient à faire la somme de 1000 simu de simu_X()\n",
    "mu = mu/1000 #la moyenne des simulations est une approximation de l'espérance\n",
    "print(mu)\n",
    "\n",
    "for k in range(1000): #on fait 1000 simulations\n",
    "   va = va + (simu_X()-mu)**2 #cela revient à faire la somme de 1000 carrés des écarts simu de simu_X()\n",
    "va = va/1000 #la moyenne de ces écarts est une approximation de la variance\n",
    "print(va)\n",
    "\n",
    "sig = np.sqrt(va) #l'écart type est la racine carrée de la variance\n",
    "print(sig)"
   ]
  },
  {
   "cell_type": "markdown",
   "metadata": {},
   "source": [
    "#### Exercice  6"
   ]
  },
  {
   "cell_type": "markdown",
   "metadata": {},
   "source": [
    "En s'inspirant du code précédent, proposer un script estimant l'écart type de chacune des fonctions utilisées à l'exercice précédent."
   ]
  },
  {
   "cell_type": "code",
   "execution_count": null,
   "metadata": {},
   "outputs": [],
   "source": []
  },
  {
   "cell_type": "code",
   "execution_count": null,
   "metadata": {},
   "outputs": [],
   "source": []
  },
  {
   "cell_type": "code",
   "execution_count": null,
   "metadata": {},
   "outputs": [],
   "source": []
  },
  {
   "cell_type": "markdown",
   "metadata": {},
   "source": [
    "### I. 3. 4. Représentation d'une loi"
   ]
  },
  {
   "cell_type": "markdown",
   "metadata": {},
   "source": [
    "On peut représenter la simulation une loi de probabilité."
   ]
  },
  {
   "cell_type": "code",
   "execution_count": null,
   "metadata": {},
   "outputs": [],
   "source": [
    "import numpy as np\n",
    "import matplotlib.pyplot as plt\n",
    "\n",
    "data = [rd.betavariate(2, 5) for _ in range(10000)]\n",
    "\n",
    "plt.hist(data, 50, color='c', edgecolor ='k', alpha =0.65)\n",
    "plt.title('Représentation de la loi beta de paramètres 2 et 5')\n",
    "plt.show()"
   ]
  },
  {
   "cell_type": "markdown",
   "metadata": {},
   "source": [
    "## II. Sommes de variables aléatoires"
   ]
  },
  {
   "cell_type": "markdown",
   "metadata": {},
   "source": [
    "On lance deux dés à 6 faces numérotées de 1 à 6. On fait la somme des deux numéros inscrits sur les faces supérieures.\n",
    "On note $S$ la variable aléatoire correspondant à cette somme.\n",
    "1. Préciser l'univers de cette expérience aléatoire.\n",
    "2. Exécuter le code qui suit. Parmi les trois représentations de lois, laquelle semble la mieux adpatée pour représenter la loi de la somme ? Argumenter."
   ]
  },
  {
   "cell_type": "code",
   "execution_count": null,
   "metadata": {},
   "outputs": [],
   "source": [
    "data1 = [rd.uniform(2,12) for _ in range(10000)]\n",
    "data2 = [rd.triangular(2,12) for _ in range(10000)]\n",
    "data3 = [1+ 11*rd.betavariate(0.5, 0.5) for _ in range(10000)]\n",
    "\n",
    "\n",
    "plt.hist(data1, 11, color='r', edgecolor ='k')\n",
    "plt.title('loi 1 « uniforme »')\n",
    "plt.show()\n",
    "plt.hist(data2, 11, color='g', edgecolor ='k')\n",
    "plt.title('loi 2 : «  triangulaire »')\n",
    "plt.show()\n",
    "plt.hist(data3, 11, color='b', edgecolor ='k')\n",
    "plt.title('loi 3 : « arcsin »')\n",
    "plt.show()"
   ]
  },
  {
   "cell_type": "markdown",
   "metadata": {},
   "source": [
    "3. Coder une fonction en Python simulant la variable aléatoire $S$. Confirmer ou infirmer votre résultat précédent."
   ]
  }
 ],
 "metadata": {
  "kernelspec": {
   "display_name": "Python 3",
   "language": "python",
   "name": "python3"
  },
  "language_info": {
   "codemirror_mode": {
    "name": "ipython",
    "version": 3
   },
   "file_extension": ".py",
   "mimetype": "text/x-python",
   "name": "python",
   "nbconvert_exporter": "python",
   "pygments_lexer": "ipython3",
   "version": "3.8.3"
  }
 },
 "nbformat": 4,
 "nbformat_minor": 4
}
